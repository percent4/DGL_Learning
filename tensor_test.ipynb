{
 "cells": [
  {
   "cell_type": "code",
   "execution_count": 2,
   "metadata": {
    "ExecuteTime": {
     "end_time": "2023-03-22T08:05:54.318392Z",
     "start_time": "2023-03-22T08:05:54.310384Z"
    }
   },
   "outputs": [],
   "source": [
    "# 检验GCN节点分类例子中的取向量的方式\n",
    "import torch as T\n",
    "\n",
    "tensor = T.Tensor([[1.1, 1.2, 1.3],\n",
    "                   [1.4, 1.5, 1.6],\n",
    "                   [1.7, 1.8, 1.9],\n",
    "                   [0.1, 0.2, 0.3],\n",
    "                   [0.4, 0.5, 0.6],\n",
    "                   [0.7, 0.8, 0.9]\n",
    "                  ])"
   ]
  },
  {
   "cell_type": "code",
   "execution_count": 5,
   "metadata": {
    "ExecuteTime": {
     "end_time": "2023-03-22T08:06:09.762607Z",
     "start_time": "2023-03-22T08:06:09.721733Z"
    }
   },
   "outputs": [
    {
     "data": {
      "text/plain": [
       "tensor([[1.1000, 1.2000, 1.3000],\n",
       "        [1.4000, 1.5000, 1.6000],\n",
       "        [1.7000, 1.8000, 1.9000],\n",
       "        [0.1000, 0.2000, 0.3000],\n",
       "        [0.4000, 0.5000, 0.6000],\n",
       "        [0.7000, 0.8000, 0.9000]])"
      ]
     },
     "execution_count": 5,
     "metadata": {},
     "output_type": "execute_result"
    }
   ],
   "source": [
    "tensor"
   ]
  },
  {
   "cell_type": "code",
   "execution_count": 11,
   "metadata": {
    "ExecuteTime": {
     "end_time": "2023-03-22T08:08:51.216402Z",
     "start_time": "2023-03-22T08:08:51.207427Z"
    }
   },
   "outputs": [],
   "source": [
    "train_mask = T.Tensor([True, True, True, False, False, False]).bool()\n",
    "val_mask = T.Tensor([False, False, False, True, True, False]).bool()\n",
    "test_mask = T.Tensor([False, False, False, False, False, True]).bool()"
   ]
  },
  {
   "cell_type": "code",
   "execution_count": 12,
   "metadata": {
    "ExecuteTime": {
     "end_time": "2023-03-22T08:08:52.457882Z",
     "start_time": "2023-03-22T08:08:52.442460Z"
    }
   },
   "outputs": [
    {
     "data": {
      "text/plain": [
       "tensor([ True,  True,  True, False, False, False])"
      ]
     },
     "execution_count": 12,
     "metadata": {},
     "output_type": "execute_result"
    }
   ],
   "source": [
    "train_mask"
   ]
  },
  {
   "cell_type": "code",
   "execution_count": 14,
   "metadata": {
    "ExecuteTime": {
     "end_time": "2023-03-22T08:09:23.645160Z",
     "start_time": "2023-03-22T08:09:23.628204Z"
    }
   },
   "outputs": [
    {
     "data": {
      "text/plain": [
       "tensor([[1.1000, 1.2000, 1.3000],\n",
       "        [1.4000, 1.5000, 1.6000],\n",
       "        [1.7000, 1.8000, 1.9000]])"
      ]
     },
     "execution_count": 14,
     "metadata": {},
     "output_type": "execute_result"
    }
   ],
   "source": [
    "tensor[train_mask]"
   ]
  },
  {
   "cell_type": "code",
   "execution_count": 15,
   "metadata": {
    "ExecuteTime": {
     "end_time": "2023-03-22T08:09:38.227343Z",
     "start_time": "2023-03-22T08:09:38.221360Z"
    }
   },
   "outputs": [
    {
     "data": {
      "text/plain": [
       "tensor([[0.1000, 0.2000, 0.3000],\n",
       "        [0.4000, 0.5000, 0.6000]])"
      ]
     },
     "execution_count": 15,
     "metadata": {},
     "output_type": "execute_result"
    }
   ],
   "source": [
    "tensor[val_mask]"
   ]
  },
  {
   "cell_type": "code",
   "execution_count": 16,
   "metadata": {
    "ExecuteTime": {
     "end_time": "2023-03-22T08:09:46.548674Z",
     "start_time": "2023-03-22T08:09:46.529722Z"
    }
   },
   "outputs": [
    {
     "data": {
      "text/plain": [
       "tensor([[0.7000, 0.8000, 0.9000]])"
      ]
     },
     "execution_count": 16,
     "metadata": {},
     "output_type": "execute_result"
    }
   ],
   "source": [
    "tensor[test_mask]"
   ]
  },
  {
   "cell_type": "code",
   "execution_count": null,
   "metadata": {},
   "outputs": [],
   "source": []
  }
 ],
 "metadata": {
  "kernelspec": {
   "display_name": "Python 3",
   "language": "python",
   "name": "python3"
  },
  "language_info": {
   "codemirror_mode": {
    "name": "ipython",
    "version": 3
   },
   "file_extension": ".py",
   "mimetype": "text/x-python",
   "name": "python",
   "nbconvert_exporter": "python",
   "pygments_lexer": "ipython3",
   "version": "3.7.2"
  }
 },
 "nbformat": 4,
 "nbformat_minor": 4
}
